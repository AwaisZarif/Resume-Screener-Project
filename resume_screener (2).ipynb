{
 "cells": [
  {
   "cell_type": "code",
   "execution_count": null,
   "id": "ee9d958f",
   "metadata": {},
   "outputs": [],
   "source": [
    "import os\n",
    "import PyPDF2\n",
    "import numpy as np\n",
    "from sklearn.feature_extraction.text import TfidfVectorizer\n",
    "from sklearn.metrics.pairwise import cosine_similarity\n"
   ]
  },
  {
   "cell_type": "code",
   "execution_count": null,
   "id": "f5145842",
   "metadata": {},
   "outputs": [],
   "source": [
    "def extract_text_from_pdf(pdf_source):\n",
    "    text = \"\"\n",
    "    reader = PyPDF2.PdfReader(pdf_source)\n",
    "    for page in reader.pages:\n",
    "        page_text = page.extract_text()\n",
    "        if page_text:\n",
    "            text += page_text + \" \"\n",
    "    return text.lower()\n"
   ]
  },
  {
   "cell_type": "code",
   "execution_count": null,
   "id": "873274eb",
   "metadata": {},
   "outputs": [],
   "source": [
    "def calculate_similarity(job_role, resume_texts):\n",
    "    vectorizer = TfidfVectorizer()\n",
    "    documents = [job_role] + resume_texts\n",
    "    tfidf_matrix = vectorizer.fit_transform(documents)\n",
    "    cosine_similarities = cosine_similarity(tfidf_matrix[0:1], tfidf_matrix[1:]).flatten()\n",
    "    return cosine_similarities\n"
   ]
  },
  {
   "cell_type": "code",
   "execution_count": null,
   "id": "8f8d8be7",
   "metadata": {},
   "outputs": [],
   "source": [
    "job_role = input(\"Enter Job Role: \")\n",
    "top_n = int(input(\"Enter number of top candidates to display: \"))\n"
   ]
  },
  {
   "cell_type": "code",
   "execution_count": null,
   "id": "879b058c",
   "metadata": {},
   "outputs": [],
   "source": [
    "import glob\n",
    "\n",
    "# Specify the folder where resumes are stored\n",
    "RESUME_FOLDER_PATH = \"E:/Resume_Screener/resumes\"\n",
    "pdf_files = glob.glob(os.path.join(RESUME_FOLDER_PATH, \"*.pdf\"))\n",
    "\n",
    "resume_texts = [extract_text_from_pdf(file) for file in pdf_files]\n",
    "similarity_scores = calculate_similarity(job_role, resume_texts)\n",
    "\n",
    "# Sorting results\n",
    "results = list(zip(pdf_files, similarity_scores))\n",
    "results.sort(key=lambda x: x[1], reverse=True)\n",
    "\n",
    "# Display top candidates\n",
    "print(\"\\nTop Candidates:\")\n",
    "for i, (file_name, score) in enumerate(results[:top_n], start=1):\n",
    "    print(f\"{i}. {os.path.basename(file_name)} - Similarity Score: {score * 100:.2f}%\")\n"
   ]
  }
 ],
 "metadata": {},
 "nbformat": 4,
 "nbformat_minor": 5
}